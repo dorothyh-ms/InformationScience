{
 "cells": [
  {
   "cell_type": "code",
   "execution_count": 1,
   "metadata": {},
   "outputs": [],
   "source": [
    "import urllib.parse\n",
    "import requests"
   ]
  },
  {
   "cell_type": "code",
   "execution_count": 2,
   "metadata": {},
   "outputs": [],
   "source": [
    "def search_europeana_api():\n",
    "    address = input(\"Enter your search here: \")\n",
    "    url = \"https://www.europeana.eu/api/entities/suggest?wskey=apidemo&text=\" + str(address)\n",
    "    try: \n",
    "        response = requests.get(url)\n",
    "        jason_data = response.json()\n",
    "        if response.status_code == 200:\n",
    "            if \"items\" not in jason_data:\n",
    "                print(\"The request did not return any matches.\")\n",
    "            else: \n",
    "                print(\"The request was executed successfully.\")\n",
    "                for item in jason_data[\"items\"]:\n",
    "                    print(item)\n",
    "        elif response.status_code == 400: \n",
    "            print(\"Authentication credentials were missing or authentication failed.\")\n",
    "        elif response.status_code == 404:\n",
    "            print(\"The requested entity was not found.\")\n",
    "        elif response.status_code == 429:\n",
    "            print(\"The request could be served because the application has reached its usage limit.\")\n",
    "        else: \n",
    "            print(\"Internal Server Error. Something has gone wrong, which we will correct.\")\n",
    "    except: \n",
    "        print(\"Please check your connection.\")\n",
    "    "
   ]
  },
  {
   "cell_type": "code",
   "execution_count": 6,
   "metadata": {
    "scrolled": false
   },
   "outputs": [
    {
     "name": "stdout",
     "output_type": "stream",
     "text": [
      "Enter your search here: shoopdoop\n",
      "The request did not return any matches.\n"
     ]
    }
   ],
   "source": [
    "search_europeana_api() # look for erasme"
   ]
  },
  {
   "cell_type": "code",
   "execution_count": 58,
   "metadata": {},
   "outputs": [
    {
     "name": "stdout",
     "output_type": "stream",
     "text": [
      "Enter your search here: shoopdoop\n",
      "The request did not return any matches.\n"
     ]
    }
   ],
   "source": [
    "search_europeana_api() # look for gibberish"
   ]
  },
  {
   "cell_type": "code",
   "execution_count": 45,
   "metadata": {},
   "outputs": [
    {
     "name": "stdout",
     "output_type": "stream",
     "text": [
      "Enter your search here: érasme\n",
      "The request was executed successfully.\n",
      "{'id': 'http://data.europeana.eu/agent/base/198', 'type': 'Agent', 'depiction': 'http://commons.wikimedia.org/wiki/Special:FilePath/Holbein-erasmus.jpg', 'prefLabel': {'ca': 'Erasme de Rotterdam', 'en': 'Desiderius Erasmus'}, 'hiddenLabel': {'ca': ['Erasme de Rotterdam', 'Rotterdam, Erasme de'], 'en': ['Desiderius Erasmus', 'Erasmus, Desiderius']}, 'dateOfBirth': '1466-10-27', 'dateOfDeath': '1536-07-12'}\n",
      "{'id': 'http://data.europeana.eu/agent/base/12159', 'type': 'Agent', 'depiction': 'http://commons.wikimedia.org/wiki/Special:FilePath/Erasmus%20Quellinus%20-%20Het%20Gulden%20Cabinet.png', 'prefLabel': {'en': 'Erasmus Quellinus II', 'fr': 'Érasme II Quellin'}, 'hiddenLabel': {'en': ['Erasmus Quellinus II', 'II, Erasmus Quellinus'], 'fr': ['Érasme II Quellin', 'Quellin, Érasme II']}, 'dateOfBirth': '1607', 'dateOfDeath': '1678'}\n",
      "{'id': 'http://data.europeana.eu/agent/base/16273', 'type': 'Agent', 'prefLabel': {'en': 'Erasmus Quellinus I', 'fr': \"Érasme Quellin l'Ancien\"}, 'hiddenLabel': {'en': ['Erasmus Quellinus I', 'I, Erasmus Quellinus'], 'fr': [\"Érasme Quellin l'Ancien\", \"l'Ancien, Érasme Quellin\"]}, 'dateOfDeath': '1640-01-22'}\n"
     ]
    }
   ],
   "source": [
    "search_europeana_api() # use special character"
   ]
  },
  {
   "cell_type": "code",
   "execution_count": 46,
   "metadata": {},
   "outputs": [
    {
     "name": "stdout",
     "output_type": "stream",
     "text": [
      "Enter your search here: erasme\n",
      "Please check your connection.\n"
     ]
    }
   ],
   "source": [
    "search_europeana_api() # try searching when there is no internet connection"
   ]
  },
  {
   "cell_type": "code",
   "execution_count": 48,
   "metadata": {},
   "outputs": [
    {
     "name": "stdout",
     "output_type": "stream",
     "text": [
      "Enter your search here: Justus Lipsius \n",
      "The request was executed successfully.\n",
      "{'id': 'http://data.europeana.eu/agent/base/97901', 'type': 'Agent', 'prefLabel': {'en': 'Justus Hermann Lipsius'}, 'hiddenLabel': {'en': ['Justus Hermann Lipsius', 'Lipsius, Justus Hermann']}, 'dateOfBirth': '1834', 'dateOfDeath': '1920'}\n"
     ]
    }
   ],
   "source": [
    "search_europeana_api() # try searching a name with a whitespace"
   ]
  }
 ],
 "metadata": {
  "kernelspec": {
   "display_name": "Python 3",
   "language": "python",
   "name": "python3"
  },
  "language_info": {
   "codemirror_mode": {
    "name": "ipython",
    "version": 3
   },
   "file_extension": ".py",
   "mimetype": "text/x-python",
   "name": "python",
   "nbconvert_exporter": "python",
   "pygments_lexer": "ipython3",
   "version": "3.8.3"
  }
 },
 "nbformat": 4,
 "nbformat_minor": 4
}
