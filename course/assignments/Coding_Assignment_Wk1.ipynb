{
 "cells": [
  {
   "cell_type": "markdown",
   "metadata": {},
   "source": [
    "Make a list of most common words and their frequencies"
   ]
  },
  {
   "cell_type": "code",
   "execution_count": 15,
   "metadata": {},
   "outputs": [],
   "source": [
    "import re\n",
    "import string\n",
    "\n",
    "def mostcommon(textfile):\n",
    "    with open(textfile, \"r\", encoding = \"UTF-8\") as f: \n",
    "        text = f.readlines()\n",
    "        wordlist = []\n",
    "        for index, line in enumerate(text): \n",
    "            words = re.split(\"\\W+\", line)\n",
    "            for word in words: \n",
    "                new_word = word.lower()\n",
    "                if len(new_word) > 0:\n",
    "                    wordlist.append(new_word)\n",
    "        frequencydict = {}\n",
    "        for word in wordlist: \n",
    "            if word in frequencydict:\n",
    "                frequencydict[word] += 1\n",
    "            else: \n",
    "                frequencydict[word] = 1\n",
    "        sorted_keys_onvalue = sorted(frequencydict, key=frequencydict.get, reverse=True)\n",
    "        sorted_list = []\n",
    "        for key in sorted_keys_onvalue: \n",
    "            tup = (key, frequencydict[key])\n",
    "            sorted_list.append(tup)\n",
    "        return sorted_list[:100]"
   ]
  },
  {
   "cell_type": "code",
   "execution_count": 16,
   "metadata": {},
   "outputs": [
    {
     "data": {
      "text/plain": [
       "[('the', 14512),\n",
       " ('of', 6676),\n",
       " ('and', 6471),\n",
       " ('a', 4774),\n",
       " ('to', 4690),\n",
       " ('in', 4190),\n",
       " ('that', 3095),\n",
       " ('it', 2542),\n",
       " ('his', 2530),\n",
       " ('i', 2128),\n",
       " ('he', 1896),\n",
       " ('but', 1823),\n",
       " ('s', 1811),\n",
       " ('as', 1750),\n",
       " ('is', 1748),\n",
       " ('with', 1729),\n",
       " ('was', 1647),\n",
       " ('for', 1643),\n",
       " ('all', 1537),\n",
       " ('this', 1437),\n",
       " ('at', 1332),\n",
       " ('by', 1232),\n",
       " ('whale', 1228),\n",
       " ('not', 1162),\n",
       " ('from', 1103),\n",
       " ('on', 1077),\n",
       " ('so', 1073),\n",
       " ('him', 1067),\n",
       " ('be', 1058),\n",
       " ('you', 949),\n",
       " ('one', 934),\n",
       " ('there', 870),\n",
       " ('now', 787),\n",
       " ('had', 779),\n",
       " ('have', 773),\n",
       " ('or', 761),\n",
       " ('were', 685),\n",
       " ('they', 669),\n",
       " ('which', 650),\n",
       " ('like', 648),\n",
       " ('me', 634),\n",
       " ('then', 632),\n",
       " ('some', 621),\n",
       " ('what', 620),\n",
       " ('their', 620),\n",
       " ('are', 611),\n",
       " ('when', 608),\n",
       " ('an', 600),\n",
       " ('no', 592),\n",
       " ('my', 589),\n",
       " ('upon', 566),\n",
       " ('out', 538),\n",
       " ('man', 527),\n",
       " ('into', 524),\n",
       " ('up', 523),\n",
       " ('ship', 518),\n",
       " ('more', 513),\n",
       " ('ahab', 511),\n",
       " ('if', 503),\n",
       " ('we', 477),\n",
       " ('them', 474),\n",
       " ('ye', 472),\n",
       " ('sea', 455),\n",
       " ('old', 450),\n",
       " ('other', 433),\n",
       " ('would', 433),\n",
       " ('been', 415),\n",
       " ('over', 411),\n",
       " ('these', 410),\n",
       " ('will', 396),\n",
       " ('though', 384),\n",
       " ('only', 381),\n",
       " ('its', 379),\n",
       " ('down', 378),\n",
       " ('such', 375),\n",
       " ('who', 364),\n",
       " ('head', 345),\n",
       " ('yet', 345),\n",
       " ('any', 344),\n",
       " ('time', 339),\n",
       " ('boat', 336),\n",
       " ('long', 334),\n",
       " ('her', 332),\n",
       " ('captain', 329),\n",
       " ('here', 327),\n",
       " ('very', 322),\n",
       " ('do', 316),\n",
       " ('about', 315),\n",
       " ('still', 313),\n",
       " ('than', 312),\n",
       " ('those', 308),\n",
       " ('great', 306),\n",
       " ('said', 304),\n",
       " ('before', 301),\n",
       " ('two', 299),\n",
       " ('has', 294),\n",
       " ('t', 294),\n",
       " ('most', 285),\n",
       " ('must', 285),\n",
       " ('seemed', 283)]"
      ]
     },
     "execution_count": 16,
     "metadata": {},
     "output_type": "execute_result"
    }
   ],
   "source": [
    "mostcommon(\"corpus.txt\")"
   ]
  },
  {
   "cell_type": "code",
   "execution_count": 17,
   "metadata": {},
   "outputs": [
    {
     "data": {
      "text/plain": [
       "['they',\n",
       " 'would',\n",
       " 'only',\n",
       " 'answer',\n",
       " 'Well',\n",
       " 'boys',\n",
       " 'here',\n",
       " 's',\n",
       " 'the',\n",
       " 'ark',\n",
       " '']"
      ]
     },
     "execution_count": 17,
     "metadata": {},
     "output_type": "execute_result"
    }
   ],
   "source": [
    "import re\n",
    "line = \"they would only answer--'Well, boys, here's the ark!'\"\n",
    "re.split(\"\\W+\", line)"
   ]
  }
 ],
 "metadata": {
  "kernelspec": {
   "display_name": "Python 3",
   "language": "python",
   "name": "python3"
  },
  "language_info": {
   "codemirror_mode": {
    "name": "ipython",
    "version": 3
   },
   "file_extension": ".py",
   "mimetype": "text/x-python",
   "name": "python",
   "nbconvert_exporter": "python",
   "pygments_lexer": "ipython3",
   "version": "3.8.3"
  }
 },
 "nbformat": 4,
 "nbformat_minor": 4
}
